{
  "cells": [
    {
      "cell_type": "markdown",
      "metadata": {
        "id": "Jx-rL0uMAgAe"
      },
      "source": [
        "Extração\n",
        "\n",
        "Pegar os dados do arquivo csv para poder manipular.\n",
        "O arquivo é o extrato das movimentações bancárias da minha conta pessoal no PagBank"
      ]
    },
    {
      "cell_type": "code",
      "execution_count": 2,
      "metadata": {
        "id": "STxC1v2tAXhx"
      },
      "outputs": [],
      "source": [
        "# TODO Carregar o arquivo com as movimentações bancárias realizadas nos últimos 3 anos\n",
        "\n",
        "import pandas as pd\n",
        "\n",
        "df = pd.read_csv('30-08-2020-30-08-2023.csv',delimiter=';')\n",
        "transacoes = df.values.tolist()\n",
        "\n",
        "#tipo = set()\n",
        "#for transacao in transacoes:\n",
        "#  tipo.add(transacao[2])\n",
        "#for t in tipo:\n",
        "#  print(t)\n",
        "#print(len(tipo))\n"
      ]
    },
    {
      "cell_type": "markdown",
      "source": [
        "**Transformação**\n",
        "\n",
        "São 12 tipos de transações, sendo que o valor já indica se é entrada (+) ou saída (-).\n",
        "\n",
        "Após carregar os dados, será feita manipulação para gerar um relatório anual com os gastos e ganhos."
      ],
      "metadata": {
        "id": "9cPCZKXpFptz"
      }
    },
    {
      "cell_type": "code",
      "source": [
        "df['DATA'] = pd.to_datetime(df['DATA'],format='%d/%m/%Y')\n",
        "df['VALOR'] = df['VALOR'].replace(',','.')\n",
        "df['VALOR'] = df['VALOR'].astype(float)\n",
        "inicios = ['2020-01-01','2021-01-01','2022-01-01','2023-01-01']\n",
        "terminos = ['2020-12-31','2021-12-31','2022-12-31','2023-12-31']\n",
        "relatorio_parcial = \"\"\n",
        "for inicio,termino in zip(inicios,terminos):\n",
        "\n",
        "  transacoes_atual = (df['DATA'] >= inicio)&(df['DATA']<=termino)\n",
        "  df_ano_atual = df[transacoes_atual]\n",
        "\n",
        "  gastos = 0\n",
        "  ganhos = 0\n",
        "  rendimento = 0\n",
        "  pix_recebido = 0\n",
        "  pagamento_de_conta = 0\n",
        "  recarga_celular = 0\n",
        "  vendas = 0\n",
        "\n",
        "  relatorio_parcial += f'Relatório referente ao intervalo com início em : {inicio} e término em: {termino}\\n'\n",
        "\n",
        "  for index,transacao in df_ano_atual.iterrows():\n",
        "    valor_atual = transacao['VALOR']\n",
        "    if float(valor_atual) < 0:\n",
        "      gastos += float(valor_atual)\n",
        "      if transacao['TIPO'] == 'Pagamento de conta':\n",
        "        pagamento_de_conta += valor_atual\n",
        "      elif transacao['TIPO'] == 'Recarga de celular':\n",
        "        recarga_celular += valor_atual\n",
        "    else:\n",
        "      ganhos += float(valor_atual)\n",
        "      if transacao['TIPO'] == 'Pix recebido':\n",
        "        pix_recebido += valor_atual\n",
        "      elif transacao['TIPO'] == 'Rendimento da conta':\n",
        "        rendimento += valor_atual\n",
        "      elif transacao['TIPO'] == 'Vendas':\n",
        "            vendas += valor_atual\n",
        "\n",
        "  relatorio_parcial += f'Total de gastos: {gastos}\\nTotal de ganhos: {ganhos}\\n\\nSaldo final:{ganhos + gastos}\\n\\nDos gastos\\n\\nPagamento conta: {pagamento_de_conta}\\nRecarga de celular: {recarga_celular}\\n\\nDo total de ganhos\\nPix recebido:{pix_recebido}\\nRenidmento da conta:{rendimento}\\nVendas: {vendas}\\n\\n'\n",
        "\n"
      ],
      "metadata": {
        "id": "mYWe4ZWnF5BO"
      },
      "execution_count": 45,
      "outputs": []
    },
    {
      "cell_type": "markdown",
      "source": [
        "**Load: Carregamento**\n",
        "\n",
        "Gera o arquivo PDF com as informações de gastos e ganhos de cada ano"
      ],
      "metadata": {
        "id": "jdW0RBr6ItE1"
      }
    },
    {
      "cell_type": "code",
      "source": [
        "arquivo = open('Relatorio_transacoes.txt',\"a\")\n",
        "arquivo.writelines(relatorio_parcial)"
      ],
      "metadata": {
        "id": "6ZLF-wEmOzrU"
      },
      "execution_count": 46,
      "outputs": []
    }
  ],
  "metadata": {
    "colab": {
      "provenance": []
    },
    "kernelspec": {
      "display_name": "Python 3",
      "name": "python3"
    },
    "language_info": {
      "name": "python"
    }
  },
  "nbformat": 4,
  "nbformat_minor": 0
}